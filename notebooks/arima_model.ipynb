{
 "cells": [
  {
   "cell_type": "markdown",
   "id": "3f6d7e9b",
   "metadata": {},
   "source": [
    "# ARIMA MODEL\n"
   ]
  },
  {
   "cell_type": "markdown",
   "id": "2740e20b",
   "metadata": {},
   "source": [
    "**Time Series** - Time Series are a series of data points indexed in time order, most commonly a sequence taken at successive equally space points in time \n",
    "\n",
    "**Time Series Analysis** - these are the methods for analyzing time series data in order to extract meaningful statistics and characteristics of the data\n",
    "\n",
    "**Time Series Forecasting** - this is the use of a model to predict future values based on previously observed values\n",
    "\n",
    "## ARIMA Model ##\n",
    "This model, which is *autoregressive integrated moving average* makes generalisations about *autogressive moving average model* to non-stationary series and periodic variations. The purpose of these generalisations is to fit data as well as possible to predict future values\n",
    "\n"
   ]
  }
 ],
 "metadata": {
  "language_info": {
   "name": "python"
  }
 },
 "nbformat": 4,
 "nbformat_minor": 5
}
